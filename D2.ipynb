{
 "cells": [
  {
   "cell_type": "code",
   "execution_count": null,
   "id": "83935d3d",
   "metadata": {
    "deletable": false,
    "editable": false
   },
   "outputs": [],
   "source": [
    "# Initialize Otter\n",
    "import otter\n",
    "grader = otter.Notebook(\"D2.ipynb\")"
   ]
  },
  {
   "cell_type": "markdown",
   "id": "938f34e0",
   "metadata": {
    "nbgrader": {
     "grade": false,
     "grade_id": "cell-68f2f0ed9883b594",
     "locked": true,
     "schema_version": 3,
     "solution": false,
     "task": false
    }
   },
   "source": [
    "# Discussion Lab 2\n",
    "\n",
    "In this week's workbook, you will implement the Ordinary Least Squared regression based on the previous `numpy` skills we built on together. In addition, we will also explore and practice the Categorical Encoding."
   ]
  },
  {
   "cell_type": "code",
   "execution_count": null,
   "id": "6f6c183d",
   "metadata": {},
   "outputs": [],
   "source": [
    "# !!!IMPORTANT!!! uncomment if needed for module installation\n",
    "# Please comment out when you submit to gradescope\n",
    "\n",
    "# %pip install -q --force-reinstall git+https://github.com/COGS118A/quiz_module.git\n",
    "# %pip install -q otter-grader\n",
    "# print(\"Install Successful. Please Restart the Kernel\")\n"
   ]
  },
  {
   "cell_type": "code",
   "execution_count": null,
   "id": "4ffe09d4",
   "metadata": {
    "nbgrader": {
     "grade": false,
     "grade_id": "cell-e5b34ff9670a9217",
     "locked": true,
     "schema_version": 3,
     "solution": false,
     "task": false
    }
   },
   "outputs": [],
   "source": [
    "# Setup for JupyterQuiz\n",
    "from quiz import display_quiz, record_quiz, check_quiz_answer, show_chosen_option\n",
    "from IPython.core.display import display, Javascript, HTML\n",
    "# Setup for Otter Grader. \n",
    "# If you have not install it, see previous cell\n",
    "import otter\n",
    "grader = otter.Notebook()\n",
    "\n",
    "import numpy as np\n",
    "\n",
    "D2_path = \"https://raw.githubusercontent.com/COGS118A/DiscussionLabExercises/main/D2/\""
   ]
  },
  {
   "cell_type": "markdown",
   "id": "92ce5ea7",
   "metadata": {
    "nbgrader": {
     "grade": false,
     "grade_id": "cell-39a5e6e3ab8589a7",
     "locked": true,
     "schema_version": 3,
     "solution": false,
     "task": false
    }
   },
   "source": [
    "## Quiz A: Vector Calculus Recap / Cosine Similarity\n",
    "Vector calculus is essential for your machine learning journey in this course and beyond. Mastering the concept of vector calculus helps you understand the basics of a lot of machine learning models. "
   ]
  },
  {
   "cell_type": "code",
   "execution_count": null,
   "id": "b3cee54c",
   "metadata": {
    "nbgrader": {
     "grade": false,
     "grade_id": "cell-6c895786d6202ca6",
     "locked": true,
     "schema_version": 3,
     "solution": false,
     "task": false
    },
    "scrolled": true
   },
   "outputs": [],
   "source": [
    "HTML(display_quiz(f\"{D2_path}A.txt\"))"
   ]
  },
  {
   "cell_type": "code",
   "execution_count": null,
   "id": "b41d7a46",
   "metadata": {},
   "outputs": [],
   "source": [
    "# show your choice\n",
    "with open(\"record.txt\", \"a+\") as r:\n",
    "    pass\n",
    "MCQ = [\"A1\", \"A2\", \"A3\", \"A4\"]\n",
    "for q in MCQ:\n",
    "    show_chosen_option(q)"
   ]
  },
  {
   "cell_type": "markdown",
   "id": "9fdfe14b",
   "metadata": {
    "nbgrader": {
     "grade": false,
     "grade_id": "cell-66297a3e5cabffa2",
     "locked": true,
     "schema_version": 3,
     "solution": false,
     "task": false
    }
   },
   "source": [
    "## Implementing Linear Regression using Ordinary Least Square (OLS)\n",
    "\n",
    "The process of linear regression using OLS has several distinct steps. In this part, we will break the OLS into several small chunks of steps that let you implement it. \n",
    "\n",
    "### Derivation of OLS analytical solutions\n",
    "\n",
    "If we have $n$ data pont $$(x_1, y_1), (x_2, y_2), ... , (x_n, y_n)$$\n",
    "\n",
    "Our goal is to predict each $y_1$ given the all the data collection $$\\mathbb{X} = (1, x_1, x_2, ..., x_n) \\in \\mathbb{R}^{d+1}$$ while $y \\in \\mathbb{R}$\n",
    "\n",
    "To achieve this, we also create weight vector $$\\vec w = (w_0, w_1, ..., w_d) \\in \\mathbb{R^{d+1}}$$\n",
    "\n",
    "To linearly transform $\\mathbb{X}$ using weight vector $\\vec w$, $$\\hat y = \\vec w^T x_i = <w^T, x_i>$$\n",
    "\n",
    "Our goal is predicint $y$ with low error. Recall that the definition of residuals is, loosely speaking, the error of our estimation. This error is measured by the distance between the actual data point with respect to the predicted value."
   ]
  },
  {
   "cell_type": "code",
   "execution_count": null,
   "id": "94796293",
   "metadata": {
    "nbgrader": {
     "grade": false,
     "grade_id": "cell-0b4245227940a127",
     "locked": true,
     "schema_version": 3,
     "solution": false,
     "task": false
    }
   },
   "outputs": [],
   "source": [
    "HTML(display_quiz(f\"{D2_path}OLS.txt\"))"
   ]
  },
  {
   "cell_type": "code",
   "execution_count": null,
   "id": "a695c388",
   "metadata": {},
   "outputs": [],
   "source": [
    "# show your choice\n",
    "MCQ = [\"OLS1\"]\n",
    "for q in MCQ:\n",
    "    show_chosen_option(q)"
   ]
  },
  {
   "cell_type": "markdown",
   "id": "068bbebe",
   "metadata": {
    "nbgrader": {
     "grade": false,
     "grade_id": "cell-50d7c0493cfff208",
     "locked": true,
     "schema_version": 3,
     "solution": false,
     "task": false
    }
   },
   "source": [
    "Our objective function to minimize is $$\\arg\\min_w  \\sum^n_{i=1} e_i^2 = e^Te$$\n",
    "\n",
    "First, we expand the equation using matrix multiplications.\n",
    "\n",
    "$$\n",
    "\\begin{align*}\n",
    "e^T e &= (Xw-y)^T (Xw - y) \\\\ \n",
    "L(w) &= y^Ty - y^TXw - (Xw)^Ty + (Xw)^T(XW) \n",
    "\\end{align*}\n",
    "$$\n",
    "\n",
    "Some matrix calculus rules that might be helpful: For two matrix $A, b$\n",
    "\n",
    "$$\n",
    "\\begin{align*}\n",
    "\\frac{\\partial}{\\partial b} b^TAb &= 2Ab \\\\\n",
    "\\end{align*}\n",
    "$$\n",
    "\n",
    "Therefore, to calculate the optimum $\\hat w$ that yeilds the minimum loss, we take the gradient w.r.t. $\\vec w$ and set it to zero.\n",
    "\n",
    "$$\n",
    "\\begin{align*}\n",
    "\\frac{\\partial}{\\partial w} L(w) &= 0 - 2X^T + 2X^TXw = 0 \\\\ \n",
    "X^TXw &= X^Ty \\\\\n",
    "\\hat w &= \\left( X^TX \\right)^{-1}X^Ty\n",
    "\\end{align*}\n",
    "$$\n",
    "\n",
    "In a function `OLS`, for a given $X$ and $y$, calculate the optimum solution of $\\vec w$ using the equation above.\n",
    "\n",
    "**Hint:** You might found `np.linalg.inv` useful to calculate the inverse of one matrix"
   ]
  },
  {
   "cell_type": "code",
   "execution_count": null,
   "id": "2b64a50e",
   "metadata": {
    "nbgrader": {
     "grade": false,
     "grade_id": "cell-117fdc98b1e40a39",
     "locked": true,
     "schema_version": 3,
     "solution": false,
     "task": false
    }
   },
   "outputs": [],
   "source": [
    "X = np.array([[1, 1],[1, 2],[1, 3],[1, 4],[1, 5]])\n",
    "y = np.array([10, 15, 16, 17, 20])"
   ]
  },
  {
   "cell_type": "code",
   "execution_count": null,
   "id": "f052ec3d",
   "metadata": {
    "nbgrader": {
     "grade": false,
     "grade_id": "cell-f5b08f72d3dda98d",
     "locked": false,
     "schema_version": 3,
     "solution": true,
     "task": false
    },
    "tags": []
   },
   "outputs": [],
   "source": [
    "def OLS(X, y):\n",
    "    ..."
   ]
  },
  {
   "cell_type": "code",
   "execution_count": null,
   "id": "29447858",
   "metadata": {},
   "outputs": [],
   "source": [
    "# See the result.\n",
    "OLS(X, y)"
   ]
  },
  {
   "cell_type": "markdown",
   "id": "1cb504e6",
   "metadata": {
    "nbgrader": {
     "grade": false,
     "grade_id": "cell-96261e7f72c494c1",
     "locked": true,
     "schema_version": 3,
     "solution": false,
     "task": false
    }
   },
   "source": [
    "## Categorial Encoding\n",
    "Analyzing numeric data is often straightforward. Suppose you have a list of ages of students in COGS 118A. Each age will be indicated as a number, and you can easily calculate the average, visualize the distribution, etc. \n",
    "\n",
    "However not all data is numeric. Data has several other distinct types, such as categorical data. Examples of categorical data are nationality, which residential colleges you are in, etc. Unlike numeric data, categorical data is more complicated to analyze because they cannot be directly interpreted mathematically. For example, which number should Revelle College and Sixth College map to? If we assign 1 to Revelle and 2 to Sixth, does it mean Sixth is worth more than Revelle? Probably not.\n",
    "\n",
    "A common solution to this challenge is called One Hot Encoding. It transforms a categorical feature into a one-hot matrix where we use one array for each unique value in the feature, and use 1 to represent the occurrence of this value.\n",
    "\n",
    "In this question, you will need to implement `one_hot_encoding` by yourself.\n",
    "\n",
    "**Note:** The public test provided is only for sanity check. Passing the public test won't guarantee you pass the hidden test later on."
   ]
  },
  {
   "cell_type": "code",
   "execution_count": null,
   "id": "e3ff8472",
   "metadata": {
    "nbgrader": {
     "grade": false,
     "grade_id": "cell-f6400f18dcff3655",
     "locked": false,
     "schema_version": 3,
     "solution": true,
     "task": false
    },
    "tags": []
   },
   "outputs": [],
   "source": [
    "def one_hot_encode(x:np.ndarray):\n",
    "    ..."
   ]
  },
  {
   "cell_type": "code",
   "execution_count": null,
   "id": "544881e3",
   "metadata": {
    "deletable": false,
    "editable": false
   },
   "outputs": [],
   "source": [
    "grader.check(\"one_hot_encode\")"
   ]
  },
  {
   "cell_type": "markdown",
   "id": "cdb29974",
   "metadata": {
    "nbgrader": {
     "grade": false,
     "grade_id": "cell-17f3e329c3aa212c",
     "locked": true,
     "schema_version": 3,
     "solution": false,
     "task": false
    }
   },
   "source": [
    "# Quiz B - OneHotEncoding Interpretation\n",
    "\n",
    "Given the following one-hot-encoded table, answer the following question.\n",
    "\n",
    "| Name    |   Gender_Female |   Gender_Male |   Gender_Non-binary |\n",
    "|:--------|----------------:|--------------:|--------------------:|\n",
    "| Joan    |               1 |             0 |                   0 |\n",
    "| Matt    |               0 |             1 |                   0 |\n",
    "| Jeff    |               0 |             1 |                   0 |\n",
    "| Melissa |               1 |             0 |                   0 |\n",
    "| Devi    |               1 |             0 |                   0 |\n",
    "| John    |               0 |             0 |                   1 |"
   ]
  },
  {
   "cell_type": "code",
   "execution_count": null,
   "id": "7343fc10",
   "metadata": {},
   "outputs": [],
   "source": [
    "np.array([[1,0,0],[0,1,0],[0,1,0],[1,0,0],[1,0,0],[0,0,1]]).sum(axis=0)"
   ]
  },
  {
   "cell_type": "code",
   "execution_count": null,
   "id": "d330abba",
   "metadata": {},
   "outputs": [],
   "source": [
    "np.array([[1,0,0],[0,1,0],[0,1,0],[1,0,0],[1,0,0],[0,0,1]]).sum(axis=1)"
   ]
  },
  {
   "cell_type": "code",
   "execution_count": null,
   "id": "bb409474",
   "metadata": {
    "nbgrader": {
     "grade": false,
     "grade_id": "cell-48a72a68a48b9ad4",
     "locked": true,
     "schema_version": 3,
     "solution": false,
     "task": false
    }
   },
   "outputs": [],
   "source": [
    "HTML(display_quiz(f\"{D2_path}B.txt\"))"
   ]
  },
  {
   "cell_type": "code",
   "execution_count": null,
   "id": "d6cdc45a",
   "metadata": {},
   "outputs": [],
   "source": [
    "# show your choice\n",
    "MCQ = [\"B1\", \"B2\"]\n",
    "for q in MCQ:\n",
    "    show_chosen_option(q)"
   ]
  },
  {
   "cell_type": "code",
   "execution_count": null,
   "id": "2356258d",
   "metadata": {},
   "outputs": [],
   "source": [
    "# Make sure you have complete all the questions\n",
    "MCQ = [\"A1\", \"A2\", \"A3\", \"A4\", \"OLS1\", \"B1\", \"B2\"]\n",
    "for q in MCQ:\n",
    "    show_chosen_option(q)"
   ]
  },
  {
   "cell_type": "markdown",
   "id": "b0551535",
   "metadata": {
    "nbgrader": {
     "grade": false,
     "grade_id": "cell-b505ed91620a32e6",
     "locked": true,
     "schema_version": 3,
     "solution": false,
     "task": false
    }
   },
   "source": [
    "**The End of D2**\n",
    "\n",
    "## Submission\n",
    "\n",
    "Make sure you have run all cells in your notebook in order before running the cell below, so that all images/graphs appear in the output. The cell below will generate a zip file for you to submit. **Please save before exporting!**\n",
    "\n",
    "Now, please save this jupyter notebook from `File -> Save and Checkpoint`. Then, submit this jupyter notebook file with the `record.txt` to gradescope."
   ]
  }
 ],
 "metadata": {
  "celltoolbar": "Raw Cell Format",
  "kernelspec": {
   "display_name": "Python 3 (ipykernel)",
   "language": "python",
   "name": "python3"
  },
  "language_info": {
   "codemirror_mode": {
    "name": "ipython",
    "version": 3
   },
   "file_extension": ".py",
   "mimetype": "text/x-python",
   "name": "python",
   "nbconvert_exporter": "python",
   "pygments_lexer": "ipython3",
   "version": "3.9.7"
  },
  "otter": {
   "OK_FORMAT": true,
   "tests": {
    "MCQ1": {
     "name": "MCQ1",
     "points": 0.8,
     "suites": [
      {
       "cases": [],
       "scored": true,
       "setup": "",
       "teardown": "",
       "type": "doctest"
      }
     ]
    },
    "MCQ2": {
     "name": "MCQ2",
     "points": 0.2,
     "suites": [
      {
       "cases": [],
       "scored": true,
       "setup": "",
       "teardown": "",
       "type": "doctest"
      }
     ]
    },
    "OLS_implementation": {
     "name": "OLS_implementation",
     "points": 0.3,
     "suites": [
      {
       "cases": [],
       "scored": true,
       "setup": "",
       "teardown": "",
       "type": "doctest"
      }
     ]
    },
    "OneHotEncoding_Intepretation": {
     "name": "OneHotEncoding_Intepretation",
     "points": 0.4,
     "suites": [
      {
       "cases": [],
       "scored": true,
       "setup": "",
       "teardown": "",
       "type": "doctest"
      }
     ]
    },
    "one_hot_encode": {
     "name": "one_hot_encode",
     "points": 0.3,
     "suites": [
      {
       "cases": [
        {
         "code": ">>> # Public Tests\n>>> lst = np.array([\"A\", \"B\", \"A\", \"C\", \"A\"])\n>>> result = one_hot_encode(lst)\n>>> # is each row (observation) only belongs to one category?\n>>> assert np.all(np.sum(result, axis=1) == np.array([1,1,1,1,1]))\n",
         "hidden": false,
         "locked": false,
         "points": 0
        }
       ],
       "scored": true,
       "setup": "",
       "teardown": "",
       "type": "doctest"
      }
     ]
    }
   }
  }
 },
 "nbformat": 4,
 "nbformat_minor": 5
}
