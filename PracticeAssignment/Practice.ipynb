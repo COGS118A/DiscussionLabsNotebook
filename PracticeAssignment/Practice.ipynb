{
 "cells": [
  {
   "cell_type": "code",
   "execution_count": null,
   "metadata": {
    "deletable": false,
    "editable": false
   },
   "outputs": [],
   "source": [
    "# Initialize Otter\n",
    "import otter\n",
    "grader = otter.Notebook(\"Practice.ipynb\")"
   ]
  },
  {
   "cell_type": "markdown",
   "metadata": {
    "nbgrader": {
     "grade": false,
     "grade_id": "cell-6a5c4dbc3992de27",
     "locked": true,
     "schema_version": 3,
     "solution": false
    }
   },
   "source": [
    "# Assignment 0: Practice - Gradescope\n",
    "\n",
    "This assignment exists for practice only.\n",
    "\n",
    "**Bonus:** This assignment is out of 0.25% of your Extra Credit. Anyone who completed this practice assignment will receive 0.25% EC on thier final score.\n",
    "\n",
    "This assignment covers assignment completion, _gradescope_ submission, and anaconda downloading.\n",
    "\n",
    "**PLEASE DO NOT CHANGE THE NAME OF THIS FILE.**\n"
   ]
  },
  {
   "cell_type": "markdown",
   "metadata": {
    "nbgrader": {
     "grade": false,
     "grade_id": "cell-3e544e64e17ca55b",
     "locked": true,
     "schema_version": 3,
     "solution": false
    }
   },
   "source": [
    "## How to complete assignments\n",
    "\n",
    "Whenever you see:\n",
    "\n",
    "```python\n",
    "answers = ...\n",
    "```\n",
    "\n",
    "You need to replace this section with some code that answers the questions and meets the specified criteria. Make sure you remove the 'raise' line when you do this (or your notebook will raise an error, regardless of any other code, and thus fail the grading tests).\n",
    "\n",
    "You should write the answer to the questions in those cells (the ones with `...`), but you can also add extra cells to explore / investigate things if you need / want to. \n",
    "\n",
    "Any cell with `grader.check(\"Question_id\")` statements in it is a test cell. You should not try to change or delete these cells. Note that there might be more than one assert that tests a particular question. Once you run the cell, you will see the public tests we provided for you.\n",
    "\n",
    "If a test does fail, reading the error that is printed out should let you know which test failed, which may be useful for fixing it.\n",
    "\n",
    "Note that some cells, including the test cells, may be read only, which means they won't let you edit them. If you cannot edit a cell - that is normal, and you shouldn't need to edit that cell."
   ]
  },
  {
   "cell_type": "code",
   "execution_count": null,
   "metadata": {},
   "outputs": [],
   "source": [
    "## install otter-grader if you haven't\n",
    "# %pip install otter-grader\n",
    "## install quiz-module if you haven't\n",
    "# %pip install git+https://github.com/COGS118A/quiz_module.git"
   ]
  },
  {
   "cell_type": "code",
   "execution_count": null,
   "metadata": {},
   "outputs": [],
   "source": [
    "import shutil\n",
    "# Setup for JupyterQuiz\n",
    "from quiz import display_quiz, record_quiz, check_quiz_answer, show_chosen_option\n",
    "from IPython.core.display import display, Javascript, HTML\n",
    "\n",
    "import numpy as np\n",
    "\n",
    "path = \"https://raw.githubusercontent.com/COGS118A/DiscussionLabExercises/main/practice/\""
   ]
  },
  {
   "cell_type": "markdown",
   "metadata": {},
   "source": [
    "### Q1 - Jupyter Quiz Practice Question (0.1 points)"
   ]
  },
  {
   "cell_type": "code",
   "execution_count": null,
   "metadata": {
    "scrolled": true
   },
   "outputs": [],
   "source": [
    "HTML(display_quiz(f\"{path}A.txt\"))"
   ]
  },
  {
   "cell_type": "code",
   "execution_count": null,
   "metadata": {
    "scrolled": true
   },
   "outputs": [],
   "source": [
    "show_chosen_option(\"A1\")"
   ]
  },
  {
   "cell_type": "code",
   "execution_count": null,
   "metadata": {
    "deletable": false,
    "editable": false
   },
   "outputs": [],
   "source": [
    "grader.check(\"x^3_question\")"
   ]
  },
  {
   "cell_type": "markdown",
   "metadata": {
    "nbgrader": {
     "grade": false,
     "grade_id": "cell-333d4f7010dd432b",
     "locked": true,
     "schema_version": 3,
     "solution": false
    }
   },
   "source": [
    "### Q1 - Practice Question (0.15 points)\n",
    "\n",
    "Consider your response to the following question: which course are you MOST excited about this quarter?:\n",
    "- A) COGS 118A\n",
    "- B) Introduction to Supervised Machine Learning\n",
    "- C) COGS1111118A\n",
    "- D) Intro Sup ML\n",
    "\n",
    "Replace `...` below to assign the letter corresponding to your response to the object `favorite_class`. Be sure that you put quotes around the the letter for your response. \n",
    "\n",
    "For example, if \"COGS 118A\" (option A above) were my answer, I would replace `favorite_class = ...` with `favorite_class = 'A'`.\n",
    "\n",
    "After you add your answer, run the code in that cell using 'Shift + Enter' or clicking the \"Run\" icon above. A number will appear to the left of the cell once your code has executed."
   ]
  },
  {
   "cell_type": "code",
   "execution_count": null,
   "metadata": {
    "nbgrader": {
     "grade": false,
     "grade_id": "cell-e4f640daee64fc2e",
     "locked": false,
     "schema_version": 3,
     "solution": true
    },
    "tags": []
   },
   "outputs": [],
   "source": [
    "# any answer is a good answer here!\n",
    "favorite_class = ..."
   ]
  },
  {
   "cell_type": "markdown",
   "metadata": {
    "nbgrader": {
     "grade": false,
     "grade_id": "cell-3e04d9c42501b5d5",
     "locked": true,
     "schema_version": 3,
     "solution": false
    }
   },
   "source": [
    "Typically, after you write some code in your assignments, there will be a few assert statements, similar to what you see below. These help to check that you're on the right path. If you are on the right track, when, you run the code in those cells, they will \"pass silently\", meaning you won't see any output. \n",
    "\n",
    "However, if you get an AssertionError, you'll want to return to the code you right and re-think your response."
   ]
  },
  {
   "cell_type": "code",
   "execution_count": null,
   "metadata": {
    "deletable": false,
    "editable": false
   },
   "outputs": [],
   "source": [
    "grader.check(\"favorite_class\")"
   ]
  },
  {
   "cell_type": "markdown",
   "metadata": {
    "nbgrader": {
     "grade": false,
     "grade_id": "cell-5a24e8b1d2a786e3",
     "locked": true,
     "schema_version": 3,
     "solution": false
    }
   },
   "source": [
    "**Note**: Just because an assert doesn't fail does *not* mean you've got the answer right. There are hidden tests in your assignments. These check to ensure the code you've written does what we asked. As long as you do what we ask *and* pass the assert statements, you'll receive full credit."
   ]
  },
  {
   "cell_type": "markdown",
   "metadata": {
    "nbgrader": {
     "grade": false,
     "grade_id": "cell-724d3a177f93690b",
     "locked": true,
     "schema_version": 3,
     "solution": false
    }
   },
   "source": [
    "## The End!\n",
    "\n",
    "This is the end of the practice assignment!\n",
    "\n",
    "Have a look back over your answers, and also make sure to `Restart & Run All` from the kernel menu to double check that everything is working properly. This restarts everything and runs your code from top to bottom.\n",
    "\n",
    "When you are ready to submit your assignment, you can click `Validate` at the top. Note that in some assignments the code will take too long to run and validation may fail. Validation is just a final check that all the asserts are passing without failing.\n",
    "\n",
    "Once you're happy with your work, click the disk icon to save, and submit the zip file onto gradescope. **You MUST submit all the required component to receive credit.**\n",
    "\n",
    "Note that you can submit at any time, but **we grade your most recent submission**. This means that **if you submit an updated notebook after the submission deadline, it will be marked as late**."
   ]
  },
  {
   "cell_type": "code",
   "execution_count": null,
   "metadata": {},
   "outputs": [],
   "source": [
    "%%javascript\n",
    "IPython.notebook.save_notebook()"
   ]
  },
  {
   "cell_type": "code",
   "execution_count": null,
   "metadata": {},
   "outputs": [],
   "source": [
    "export = True\n",
    "\n",
    "if export:\n",
    "    shutil.make_archive(\"practices\", 'zip', \".\")\n",
    "    print(\"Export Successful! You can now submit to Gradescope\")"
   ]
  },
  {
   "cell_type": "code",
   "execution_count": null,
   "metadata": {},
   "outputs": [],
   "source": []
  }
 ],
 "metadata": {
  "celltoolbar": "Raw Cell Format",
  "kernelspec": {
   "display_name": "Python 3",
   "language": "python",
   "name": "python3"
  },
  "language_info": {
   "codemirror_mode": {
    "name": "ipython",
    "version": 3
   },
   "file_extension": ".py",
   "mimetype": "text/x-python",
   "name": "python",
   "nbconvert_exporter": "python",
   "pygments_lexer": "ipython3",
   "version": "3.8.8"
  },
  "otter": {
   "OK_FORMAT": true,
   "tests": {
    "favorite_class": {
     "name": "favorite_class",
     "points": 0.15,
     "suites": [
      {
       "cases": [
        {
         "code": ">>> possible_answers = ['A', 'B', 'C', 'D']\n>>> assert favorite_class in possible_answers, \"Did you put in some other options?\"\n",
         "hidden": false,
         "locked": false
        }
       ],
       "scored": true,
       "setup": "",
       "teardown": "",
       "type": "doctest"
      }
     ]
    },
    "x^3_question": {
     "name": "x^3_question",
     "points": 0.1,
     "suites": [
      {
       "cases": [
        {
         "code": ">>> # Public Test\n>>> check_quiz_answer(\"A1\", 2)\n",
         "hidden": false,
         "locked": false
        }
       ],
       "scored": true,
       "setup": "",
       "teardown": "",
       "type": "doctest"
      }
     ]
    }
   }
  }
 },
 "nbformat": 4,
 "nbformat_minor": 2
}
